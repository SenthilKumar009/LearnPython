{
  "nbformat": 4,
  "nbformat_minor": 0,
  "metadata": {
    "colab": {
      "provenance": [],
      "collapsed_sections": []
    },
    "kernelspec": {
      "name": "python3",
      "display_name": "Python 3"
    },
    "language_info": {
      "name": "python"
    }
  },
  "cells": [
    {
      "cell_type": "markdown",
      "source": [
        "##<b><center> Python Functions</center></b>"
      ],
      "metadata": {
        "id": "SBuQ1Dj02qRO"
      }
    },
    {
      "cell_type": "markdown",
      "source": [
        "![image.png](data:image/png;base64,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)"
      ],
      "metadata": {
        "id": "LR76lDnZ2jLn"
      }
    },
    {
      "cell_type": "markdown",
      "source": [
        "Python Functions are a block of statements that return the specific task."
      ],
      "metadata": {
        "id": "S-UyZL9x255Z"
      }
    },
    {
      "cell_type": "code",
      "execution_count": null,
      "metadata": {
        "colab": {
          "base_uri": "https://localhost:8080/"
        },
        "id": "zup8hV262Xx5",
        "outputId": "25aaac4b-2770-4011-c2c3-a8bfce64226c"
      },
      "outputs": [
        {
          "output_type": "stream",
          "name": "stdout",
          "text": [
            "Welcome to DPhi\n"
          ]
        }
      ],
      "source": [
        "def fun():\n",
        "\tprint(\"Welcome to DPhi\")\n",
        "\n",
        "# Driver code to call a function\n",
        "fun()"
      ]
    },
    {
      "cell_type": "markdown",
      "source": [
        "<b>Defining and calling a function with parameters</b>"
      ],
      "metadata": {
        "id": "ec2CnrDD3Uij"
      }
    },
    {
      "cell_type": "code",
      "source": [
        "def add(num1: int, num2: int) -> int:\n",
        "\t\"\"\"Add two numbers\"\"\"\n",
        "\tnum3 = num1 + num2\n",
        "\n",
        "\treturn num3\n",
        "\n",
        "# Driver code\n",
        "num1, num2 = 5, 15\n",
        "ans = add(num1, num2)\n",
        "print(f\"The addition of {num1} and {num2} results {ans}.\")"
      ],
      "metadata": {
        "colab": {
          "base_uri": "https://localhost:8080/"
        },
        "id": "F9kKFeSh2_1p",
        "outputId": "0ddbba32-e362-4f91-ad02-d2c166e01fbc"
      },
      "execution_count": null,
      "outputs": [
        {
          "output_type": "stream",
          "name": "stdout",
          "text": [
            "The addition of 5 and 15 results 20.\n"
          ]
        }
      ]
    },
    {
      "cell_type": "markdown",
      "source": [
        "<b><h2> Examples of Python built-in functions</b></h2>"
      ],
      "metadata": {
        "id": "ZztVfKjaD-z6"
      }
    },
    {
      "cell_type": "markdown",
      "source": [
        "1. abs(x)\n",
        "Returns the absolute value of a number. In case a complex number is passed, the magnitude of that number is returned. It is the same as the distance from the origin of a point on an x-y graph. For e.g.-\n",
        "\n",
        "Abs(-3) =3\n",
        "\n",
        "abs(3+4i) = 5"
      ],
      "metadata": {
        "id": "I2EriL99EE-r"
      }
    },
    {
      "cell_type": "code",
      "source": [
        "a = 12\n",
        "b = -4\n",
        "c = 3+4j\n",
        "d = 7.90\n",
        "print(abs(a))\n",
        "print(abs(b))\n",
        "print(abs(c))\n",
        "print(abs(d))"
      ],
      "metadata": {
        "colab": {
          "base_uri": "https://localhost:8080/"
        },
        "id": "sz06UXORD-Yx",
        "outputId": "5b778e2b-86f2-4041-d986-6cad2b8b3d0a"
      },
      "execution_count": null,
      "outputs": [
        {
          "output_type": "stream",
          "name": "stdout",
          "text": [
            "12\n",
            "4\n",
            "5.0\n",
            "7.9\n"
          ]
        }
      ]
    },
    {
      "cell_type": "markdown",
      "source": [
        "**bin()**\n",
        "- This function returns the binary value of a number.\n"
      ],
      "metadata": {
        "id": "qjCeZiuhEatD"
      }
    },
    {
      "cell_type": "code",
      "source": [
        "a=5\n",
        "print(bin(a))"
      ],
      "metadata": {
        "colab": {
          "base_uri": "https://localhost:8080/"
        },
        "id": "N9184roCEdPT",
        "outputId": "ddb1d6d2-2cca-4a4f-d6fa-e3909b270e3b"
      },
      "execution_count": null,
      "outputs": [
        {
          "output_type": "stream",
          "name": "stdout",
          "text": [
            "0b101\n"
          ]
        }
      ]
    },
    {
      "cell_type": "markdown",
      "source": [
        "round()\n",
        "- It gives a roundoff value for a number, i.e. gives the nearest integer value for a number. This function accepts one argument, either decimal, float or integer and gives roundoff output."
      ],
      "metadata": {
        "id": "uEm7jTmeEh-L"
      }
    },
    {
      "cell_type": "code",
      "source": [
        "print(round(4.5))\n",
        "print(round(-7.7))"
      ],
      "metadata": {
        "colab": {
          "base_uri": "https://localhost:8080/"
        },
        "id": "EFJUkGZTEm7P",
        "outputId": "88696e22-328f-4363-cb8b-37ffe544f6d2"
      },
      "execution_count": null,
      "outputs": [
        {
          "output_type": "stream",
          "name": "stdout",
          "text": [
            "4\n",
            "-8\n"
          ]
        }
      ]
    },
    {
      "cell_type": "markdown",
      "source": [
        "bin()\n",
        "- It returns the binary value for the number passed in the argument. The only integer can be passed as an argument to the function.\n"
      ],
      "metadata": {
        "id": "cXIL0lbWErCa"
      }
    },
    {
      "cell_type": "code",
      "source": [
        "print(bin(4))\n",
        "print(bin(9))"
      ],
      "metadata": {
        "colab": {
          "base_uri": "https://localhost:8080/"
        },
        "id": "ThO0i_sfEtme",
        "outputId": "b224468f-d02d-42cb-e3e4-c0004e39975e"
      },
      "execution_count": null,
      "outputs": [
        {
          "output_type": "stream",
          "name": "stdout",
          "text": [
            "0b100\n",
            "0b1001\n"
          ]
        }
      ]
    },
    {
      "cell_type": "markdown",
      "source": [
        "**list()**\n",
        "- This function is used to convert an object to a list object."
      ],
      "metadata": {
        "id": "pUjPnVhAFSyT"
      }
    },
    {
      "cell_type": "code",
      "source": [
        "print(list()) #returns empty list\n",
        "stringobj = 'PALINDROME'\n",
        "print(list(stringobj))\n",
        "tupleobj = ('a', 'e', 'i', 'o', 'u')\n",
        "print(list(tupleobj))\n",
        "listobj = ['1', '2', '3', 'o', '10u']\n",
        "print(list(listobj))"
      ],
      "metadata": {
        "colab": {
          "base_uri": "https://localhost:8080/"
        },
        "id": "S_WE8YjBFY54",
        "outputId": "f4d2b915-fb87-4c34-8d4a-27b6c557ff54"
      },
      "execution_count": null,
      "outputs": [
        {
          "output_type": "stream",
          "name": "stdout",
          "text": [
            "[]\n",
            "['P', 'A', 'L', 'I', 'N', 'D', 'R', 'O', 'M', 'E']\n",
            "['a', 'e', 'i', 'o', 'u']\n",
            "['1', '2', '3', 'o', '10u']\n"
          ]
        }
      ]
    },
    {
      "cell_type": "markdown",
      "source": [
        "**len()**\n",
        "- This function gives the length of the object as an output."
      ],
      "metadata": {
        "id": "GKe_C0cTFccx"
      }
    },
    {
      "cell_type": "code",
      "source": [
        "stringobj = 'PALINDROME'\n",
        "print(len(stringobj))\n",
        "tupleobj = ('a', 'e', 'i', 'o', 'u')\n",
        "print(len(tupleobj))\n",
        "listobj = ['1', '2', '3', 'o', '10u']\n",
        "print(len(listobj))"
      ],
      "metadata": {
        "colab": {
          "base_uri": "https://localhost:8080/"
        },
        "id": "p4tfxEYIFhk_",
        "outputId": "a0dfef10-69fc-4d25-cb64-a102d10a5544"
      },
      "execution_count": null,
      "outputs": [
        {
          "output_type": "stream",
          "name": "stdout",
          "text": [
            "10\n",
            "5\n",
            "5\n"
          ]
        }
      ]
    },
    {
      "cell_type": "markdown",
      "source": [
        "**max()**\n",
        "- This function returns the largest number in the given iterable object or the maximum of two or more numbers given as arguments."
      ],
      "metadata": {
        "id": "2fe4Nm8IFloE"
      }
    },
    {
      "cell_type": "code",
      "source": [
        "num = [11, 13, 12, 15, 14]\n",
        "print('Maximum is:', max(num))"
      ],
      "metadata": {
        "colab": {
          "base_uri": "https://localhost:8080/"
        },
        "id": "XstpFEX-FrW2",
        "outputId": "548e981f-e7ad-4aae-9c69-ab5dbe4c36ae"
      },
      "execution_count": null,
      "outputs": [
        {
          "output_type": "stream",
          "name": "stdout",
          "text": [
            "Maximum is: 15\n"
          ]
        }
      ]
    },
    {
      "cell_type": "markdown",
      "source": [
        "**min()**\n",
        "- This function returns the minimum value from the collection object or the values defined as arguments."
      ],
      "metadata": {
        "id": "OyvVb6fhFz6E"
      }
    },
    {
      "cell_type": "code",
      "source": [
        "print(min(2,5,3,1,0,99))\n",
        "sampleObj = ['B','a','t','A']\n",
        "print(min(sampleObj))"
      ],
      "metadata": {
        "colab": {
          "base_uri": "https://localhost:8080/"
        },
        "id": "wRdm_ZRVF4-d",
        "outputId": "2852bc24-7725-4006-d156-18d5c19bf578"
      },
      "execution_count": null,
      "outputs": [
        {
          "output_type": "stream",
          "name": "stdout",
          "text": [
            "0\n",
            "A\n"
          ]
        }
      ]
    },
    {
      "cell_type": "markdown",
      "source": [
        "**map()**\n",
        "- This function helps in debugging as it provides the result after an operation is applied to each of the items in an iterable object."
      ],
      "metadata": {
        "id": "v7IyRyVxF8Nh"
      }
    },
    {
      "cell_type": "code",
      "source": [
        "numList = (11, 21, 13, 41)\n",
        "res = map(lambda x: x + x, numList)\n",
        "print(list(res))"
      ],
      "metadata": {
        "colab": {
          "base_uri": "https://localhost:8080/"
        },
        "id": "BELGMUcRGBQG",
        "outputId": "14d6f614-62a3-4c40-8bf7-ba8263698b4b"
      },
      "execution_count": null,
      "outputs": [
        {
          "output_type": "stream",
          "name": "stdout",
          "text": [
            "[22, 42, 26, 82]\n"
          ]
        }
      ]
    },
    {
      "cell_type": "markdown",
      "source": [
        "**pow()**\n",
        "- This function returns the value of the power of 1 number to another number."
      ],
      "metadata": {
        "id": "-XLj0P4HGG08"
      }
    },
    {
      "cell_type": "code",
      "source": [
        "print(pow(2,-3))\n",
        "print(pow(2,4.5))\n",
        "print(pow(3,0))"
      ],
      "metadata": {
        "colab": {
          "base_uri": "https://localhost:8080/"
        },
        "id": "ahPtJFiXGFj0",
        "outputId": "bba9de6a-7f25-4b55-eb10-ab22e639614d"
      },
      "execution_count": null,
      "outputs": [
        {
          "output_type": "stream",
          "name": "stdout",
          "text": [
            "0.125\n",
            "22.627416997969522\n",
            "1\n"
          ]
        }
      ]
    },
    {
      "cell_type": "markdown",
      "source": [
        "**sorted()**\n",
        "- This function has made the sorting of the numbers very easy."
      ],
      "metadata": {
        "id": "pGMhx14LGQCP"
      }
    },
    {
      "cell_type": "code",
      "source": [
        "sampleObj = (3,6,8,2,5,8,10)\n",
        "print(sorted(sampleObj,reverse=True))\n",
        "sampledict = {'a':'sss','g':'wq','t':2}\n",
        "print(sorted(sampledict,key= len))"
      ],
      "metadata": {
        "colab": {
          "base_uri": "https://localhost:8080/"
        },
        "id": "VcJQrpOGGU2c",
        "outputId": "2fc190e9-f120-44a1-815d-18594c854a03"
      },
      "execution_count": null,
      "outputs": [
        {
          "output_type": "stream",
          "name": "stdout",
          "text": [
            "[10, 8, 8, 6, 5, 3, 2]\n",
            "['a', 'g', 't']\n"
          ]
        }
      ]
    },
    {
      "cell_type": "markdown",
      "source": [
        "**sum()**\n",
        "- This function helps to sum the member of an iterable object."
      ],
      "metadata": {
        "id": "e3m2zi2jGdte"
      }
    },
    {
      "cell_type": "code",
      "source": [
        "num = [2.5, 3, 4, -5]\n",
        "numSum = sum(num)\n",
        "print(numSum)\n",
        "numSum = sum(num, 20)\n",
        "print(numSum)"
      ],
      "metadata": {
        "colab": {
          "base_uri": "https://localhost:8080/"
        },
        "id": "SNWXoK3nGklB",
        "outputId": "bc9c1748-7a4c-469d-d24b-39545da49225"
      },
      "execution_count": null,
      "outputs": [
        {
          "output_type": "stream",
          "name": "stdout",
          "text": [
            "4.5\n",
            "24.5\n"
          ]
        }
      ]
    },
    {
      "cell_type": "markdown",
      "source": [
        "**input()**\n",
        "- This function helps python to take input from the user. In python 2.7, Its name is raw_input() which has been changed to input(). Once enter, or esc is pressed system is resumed again.\n"
      ],
      "metadata": {
        "id": "GdXtxuY5HQMn"
      }
    },
    {
      "cell_type": "code",
      "source": [
        "input()"
      ],
      "metadata": {
        "colab": {
          "base_uri": "https://localhost:8080/",
          "height": 53
        },
        "id": "ltymP1cJGtlt",
        "outputId": "9abae3a3-6626-4631-a877-e6992378a9ab"
      },
      "execution_count": null,
      "outputs": [
        {
          "name": "stdout",
          "output_type": "stream",
          "text": [
            "4\n"
          ]
        },
        {
          "output_type": "execute_result",
          "data": {
            "text/plain": [
              "'4'"
            ],
            "application/vnd.google.colaboratory.intrinsic+json": {
              "type": "string"
            }
          },
          "metadata": {},
          "execution_count": 15
        }
      ]
    },
    {
      "cell_type": "markdown",
      "source": [
        "\n",
        "**range(start,stop,step)**\n",
        "- Here, start- an Integer which marks the start of the series.\n",
        "\n",
        "- A stop-an integer that marks the last number of the series. The last number in the range is stop-1.\n",
        "\n",
        "- Step – an integer that lets to increment the loop with a specific number. By default, it is +1.\n"
      ],
      "metadata": {
        "id": "tHTh5olYG27T"
      }
    },
    {
      "cell_type": "code",
      "source": [
        "res = 1\n",
        "for i in range(1, 10,2): \n",
        "       res = res * i \n",
        "print(\"multiplication of first 10 natural number :\", res)"
      ],
      "metadata": {
        "colab": {
          "base_uri": "https://localhost:8080/"
        },
        "id": "a6bxDnYCGzyM",
        "outputId": "935f879d-ba38-4886-dd6d-817f729fa12a"
      },
      "execution_count": null,
      "outputs": [
        {
          "output_type": "stream",
          "name": "stdout",
          "text": [
            "multiplication of first 10 natural number : 945\n"
          ]
        }
      ]
    },
    {
      "cell_type": "markdown",
      "source": [
        "<b><center><h1>Methods</h1></center></b>\n",
        "\n",
        "A method in python is somewhat similar to a function, except it is associated with object/classes. Methods in python are very similar to functions except for two major differences.\n",
        "\n",
        "The method is implicitly used for an object for which it is called.\n",
        "\n",
        "The method is accessible to data that is contained within the class."
      ],
      "metadata": {
        "id": "AWSt7hw04wb4"
      }
    },
    {
      "cell_type": "code",
      "source": [
        "class car(object):\n",
        "   def my_method(self):\n",
        "      print(\"I am a Swift Dzire 900\")\n",
        "maruti = car()\n",
        "maruti.my_method()"
      ],
      "metadata": {
        "colab": {
          "base_uri": "https://localhost:8080/"
        },
        "id": "im87zVLR3d9w",
        "outputId": "e670afd3-8b81-49db-cea9-e3a2465c2525"
      },
      "execution_count": null,
      "outputs": [
        {
          "output_type": "stream",
          "name": "stdout",
          "text": [
            "I am a Swift Dzire 900\n"
          ]
        }
      ]
    },
    {
      "cell_type": "markdown",
      "source": [
        "In the above code, we first defined class “car”. Then we created the object “maruti” from this blueprint. Next, we call our custom method called my_method with the object(.i.e. maruti)."
      ],
      "metadata": {
        "id": "dTxA4gSP5dbF"
      }
    },
    {
      "cell_type": "markdown",
      "source": [
        "Key differences between method and function in python\n",
        "As we get the basic understanding of the function and method both, let's highlight the key differences between them −\n",
        "\n",
        "Unlike a function, methods are called on an object. Like in our example above we call our method .i.e. “my_method” on the object “cat” whereas the function “sum” is called without any object. Also, because the method is called on an object, it can access that data within it.\n",
        "\n",
        "Unlike method which can alter the object’s state, python function doesn’t do this and normally operates on it.\n",
        "\n",
        "In Short, a method is a function which belongs to an object."
      ],
      "metadata": {
        "id": "AJZAc4ym5r2N"
      }
    },
    {
      "cell_type": "markdown",
      "source": [
        "<center><h1><b>Packages</b></h1></center>"
      ],
      "metadata": {
        "id": "lDgeNIjhIkkM"
      }
    },
    {
      "cell_type": "markdown",
      "source": [
        "A Python package is nothing but a folder containing some modules inside it. To initialize a folder as a Python package we need to create a file called __init__.py inside the folder."
      ],
      "metadata": {
        "id": "rqCqy9giI-a8"
      }
    },
    {
      "cell_type": "markdown",
      "source": [
        "For example, you can separate all the functions in your calculator.py module and put them into four different modules:"
      ],
      "metadata": {
        "id": "OX6w5tQWOqOy"
      }
    },
    {
      "cell_type": "code",
      "source": [
        "def sum(a, b):\n",
        "    return a + b\n",
        "\n",
        "def subtract(a, b):\n",
        "    return a - b\n",
        "\n",
        "def multiply(a, b):\n",
        "    return a * b\n",
        "\n",
        "def divide(a, b):\n",
        "    return a / b"
      ],
      "metadata": {
        "id": "S_m37ywZIsIb"
      },
      "execution_count": null,
      "outputs": []
    },
    {
      "cell_type": "markdown",
      "source": [
        "Now put them in a single folder called calc_pkg and create a file called __init__.py inside the folder. You just created a Python package called calc_pkg."
      ],
      "metadata": {
        "id": "MGyDc0ntO87c"
      }
    },
    {
      "cell_type": "markdown",
      "source": [
        "![image.png](data:image/png;base64,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)"
      ],
      "metadata": {
        "id": "lw5oYYEQO_71"
      }
    },
    {
      "cell_type": "markdown",
      "source": [
        "- import <package_name.module_name>\n",
        "- You can import the modules from the calc_pkg package using the import keyword:\n",
        "\n"
      ],
      "metadata": {
        "id": "3zxoVvQUPGLk"
      }
    },
    {
      "cell_type": "code",
      "source": [
        "##running the code in this notebook will throw error, you need to execute this in your system \n",
        "'''\n",
        "import calc_pkg.sum, calc_pkg.subtract, calc_pkg.multiply, calc_pkg.divide\n",
        "\n",
        "print(calc_pkg.sum.sum(5, 10))\n",
        "print(calc_pkg.subtract.subtract(5, 10))\n",
        "print(calc_pkg.multiply.multiply(5, 10))\n",
        "print(calc_pkg.divide.divide(5, 10))\n",
        "\n",
        "Output:\n",
        "\n",
        "15\n",
        "-5\n",
        "50\n",
        "0.5\n",
        "'''"
      ],
      "metadata": {
        "colab": {
          "base_uri": "https://localhost:8080/",
          "height": 53
        },
        "id": "2OYnW1K_Owjt",
        "outputId": "121d89cf-252c-4c92-ac68-aad7ec9c0243"
      },
      "execution_count": null,
      "outputs": [
        {
          "output_type": "execute_result",
          "data": {
            "text/plain": [
              "'\\nimport calc_pkg.sum, calc_pkg.subtract, calc_pkg.multiply, calc_pkg.divide\\n\\nprint(calc_pkg.sum.sum(5, 10))\\nprint(calc_pkg.subtract.subtract(5, 10))\\nprint(calc_pkg.multiply.multiply(5, 10))\\nprint(calc_pkg.divide.divide(5, 10))\\n\\nOutput:\\n\\n15\\n-5\\n50\\n0.5\\n'"
            ],
            "application/vnd.google.colaboratory.intrinsic+json": {
              "type": "string"
            }
          },
          "metadata": {},
          "execution_count": 18
        }
      ]
    },
    {
      "cell_type": "markdown",
      "source": [
        "- from <package_name.module_name> import <some_object(s)>\n",
        "- You can import the objects from a module individually too."
      ],
      "metadata": {
        "id": "XwfWwJo2Q08y"
      }
    },
    {
      "cell_type": "code",
      "source": [
        "'''\n",
        "from calc_pkg.sum import sum\n",
        "from calc_pkg.subtract import subtract\n",
        "from calc_pkg.multiply import multiply\n",
        "from calc_pkg.divide import divide\n",
        "\n",
        "print(sum(5, 10))\n",
        "print(subtract(5, 10))\n",
        "print(multiply(5, 10))\n",
        "print(divide(5, 10))\n",
        "'''"
      ],
      "metadata": {
        "id": "GMH6vBw-RHEm"
      },
      "execution_count": null,
      "outputs": []
    },
    {
      "cell_type": "markdown",
      "source": [
        "Dividing a large Python program into modules and packages will make your code easy to understand, maintain, and add more functionalities. Additionally, writing modules will make your code reusable. Therefore, maintaining a modular design can be convenient in many ways."
      ],
      "metadata": {
        "id": "OXX-RvGZRW0E"
      }
    }
  ]
}