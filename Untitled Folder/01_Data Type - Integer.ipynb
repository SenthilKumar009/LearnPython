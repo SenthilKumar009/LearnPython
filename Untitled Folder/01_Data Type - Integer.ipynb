{
 "cells": [
  {
   "cell_type": "code",
   "execution_count": 1,
   "id": "2328b408",
   "metadata": {},
   "outputs": [],
   "source": [
    "num = 3"
   ]
  },
  {
   "cell_type": "code",
   "execution_count": 3,
   "id": "512ef5ed",
   "metadata": {},
   "outputs": [
    {
     "name": "stdout",
     "output_type": "stream",
     "text": [
      "<class 'int'>\n"
     ]
    }
   ],
   "source": [
    "# To find the data type of the given variable\n",
    "print(type(num))"
   ]
  },
  {
   "cell_type": "code",
   "execution_count": 6,
   "id": "df5dd695",
   "metadata": {},
   "outputs": [
    {
     "name": "stdout",
     "output_type": "stream",
     "text": [
      "I will now count my chickens:\n",
      "Hens 30\n",
      "Roosters 97\n",
      "Now I will count the eggs:\n",
      "6.75\n",
      "Is it true that 3 + 2 < 5 - 7?\n",
      "False\n",
      "What is 3 + 2? 5\n",
      "What is 5 - 7? -2\n",
      "Oh, that's why it's False.\n",
      "How about some more.\n",
      "Is it greater? True\n",
      "Is it greater or equal? True\n",
      "Is it less or equal? False\n"
     ]
    }
   ],
   "source": [
    "# Math operations on the integer numbers\n",
    "print(\"I will now count my chickens:\")\n",
    "\n",
    "print(\"Hens\", 25 + 30 // 6)\n",
    "print(\"Roosters\", 100 - 25 * 3 % 4)\n",
    "\n",
    "print(\"Now I will count the eggs:\")\n",
    "\n",
    "print(3 + 2 + 1 - 5 + 4 % 2 - 1 / 4 + 6)\n",
    "\n",
    "print(\"Is it true that 3 + 2 < 5 - 7?\")\n",
    "\n",
    "print(3 + 2 < 5 - 7)\n",
    "\n",
    "print(\"What is 3 + 2?\", 3 + 2)\n",
    "\n",
    "print(\"What is 5 - 7?\", 5 - 7)\n",
    "\n",
    "print(\"Oh, that's why it's False.\")\n",
    "\n",
    "print(\"How about some more.\")\n",
    "\n",
    "print(\"Is it greater?\", 5 > - 2)\n",
    "print(\"Is it greater or equal?\", 5 >= - 2)\n",
    "print(\"Is it less or equal?\", 5 <= - 2)"
   ]
  },
  {
   "cell_type": "code",
   "execution_count": null,
   "id": "0bfc8260",
   "metadata": {},
   "outputs": [],
   "source": []
  }
 ],
 "metadata": {
  "kernelspec": {
   "display_name": "Python 3 (ipykernel)",
   "language": "python",
   "name": "python3"
  },
  "language_info": {
   "codemirror_mode": {
    "name": "ipython",
    "version": 3
   },
   "file_extension": ".py",
   "mimetype": "text/x-python",
   "name": "python",
   "nbconvert_exporter": "python",
   "pygments_lexer": "ipython3",
   "version": "3.8.12"
  }
 },
 "nbformat": 4,
 "nbformat_minor": 5
}
